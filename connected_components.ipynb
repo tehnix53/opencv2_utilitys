{
 "cells": [
  {
   "cell_type": "code",
   "execution_count": 110,
   "metadata": {},
   "outputs": [],
   "source": []
  },
  {
   "cell_type": "code",
   "execution_count": 107,
   "metadata": {},
   "outputs": [],
   "source": [
    "import matplotlib.pyplot as plt\n",
    "import numpy as np"
   ]
  },
  {
   "cell_type": "code",
   "execution_count": null,
   "metadata": {},
   "outputs": [],
   "source": [
    "test = [[0,0,0,0,0,0,0,0,0,0,0,0,0,0,0,0,0],\n",
    "        [0,0,1,1,0,0,1,1,0,0,1,1,0,0,1,1,0],\n",
    "        [0,1,1,1,1,1,1,1,1,0,0,1,1,1,1,0,0],\n",
    "        [0,0,0,1,1,1,1,0,0,0,1,1,1,1,0,0,0],\n",
    "        [0,0,1,1,1,1,0,0,0,1,1,1,0,0,1,1,0],\n",
    "        [0,1,1,1,0,0,1,1,0,0,0,1,1,1,0,0,0],\n",
    "        [0,0,1,1,0,0,0,0,0,1,1,0,0,0,1,1,0],\n",
    "        [0,0,0,0,0,0,1,1,1,1,0,0,1,1,1,1,0],\n",
    "        [0,0,0,0,0,0,0,0,0,0,0,0,0,0,0,0,0]]"
   ]
  },
  {
   "cell_type": "code",
   "execution_count": 111,
   "metadata": {},
   "outputs": [
    {
     "data": {
      "text/plain": [
       "<matplotlib.image.AxesImage at 0x7f64c47545f8>"
      ]
     },
     "execution_count": 111,
     "metadata": {},
     "output_type": "execute_result"
    },
    {
     "data": {
      "image/png": "[encoded data removed]",
      "text/plain": [
       "<Figure size 432x288 with 1 Axes>"
      ]
     },
     "metadata": {
      "needs_background": "light"
     },
     "output_type": "display_data"
    }
   ],
   "source": [
    "plt.imshow(np.asarray(test))"
   ]
  },
  {
   "cell_type": "code",
   "execution_count": 121,
   "metadata": {},
   "outputs": [],
   "source": [
    "# neighbor implementation\n",
    "\n",
    "# for i in range(len(test)): # string\n",
    "#     for j in range(len(test[0])): # el in string\n",
    "#         print ('row:',i, 'string', j,'.pixel value', test[i][j])\n",
    "#         # find west neighbore:\n",
    "#         if j!=0: # by element on the string\n",
    "#             print ('p_w', test[i][j-1])\n",
    "#         else:\n",
    "#             print ('\\t no_west')\n",
    "#         # find north neighbore\n",
    "#         if i!=0: # by string\n",
    "#             print (\"p_n\", test[i-1][j])\n",
    "#         else:\n",
    "#             print ('\\t no north')\n",
    "#     print ('__end_string__')\n",
    "#     print ('\\n')"
   ]
  },
  {
   "cell_type": "markdown",
   "metadata": {},
   "source": [
    "## first pass"
   ]
  },
  {
   "cell_type": "code",
   "execution_count": 136,
   "metadata": {},
   "outputs": [],
   "source": [
    "labeling = {}\n",
    "equivalent_relation = []\n",
    "label = 1\n",
    "for i in range(len(test)): # string\n",
    "    for j in range(len(test[0])): # el in string\n",
    "        \n",
    "        pixel = test[i][j]\n",
    "        neighbors = []\n",
    "\n",
    "        if pixel == 0: # element is font condition!!!!\n",
    "            labeling[i,j] = 0\n",
    "    ### SET ALL NEIGHBORS WITH THEIR LABELING ####\n",
    "        else:\n",
    "            \n",
    "            if j!=0:\n",
    "                west = test[i][j-1]  ## pixel of the West!\n",
    "                label_west = labeling[i,j-1]\n",
    "                neighbors += [[west, label_west]]\n",
    "            else:\n",
    "                pass\n",
    "\n",
    "            if i!=0:\n",
    "                north = test[i-1][j]   ## pixel of the North!!!\n",
    "                label_north = labeling[i-1,j]\n",
    "                neighbors += [[north, label_north]]\n",
    "            else:\n",
    "                pass\n",
    "\n",
    "            if i!=0 and j!=0:\n",
    "                north_west = test[i-1][j-1]   ## pixel of the North-West!!!\n",
    "                label_north_west = labeling[i-1,j-1]\n",
    "                neighbors += [[north_west, label_north_west]]\n",
    "            else:\n",
    "                pass \n",
    "\n",
    "            if i!=0 and j<len(test[0])-1:\n",
    "                north_east = test[i-1][j+1]   ## pixel of the North-East!!!\n",
    "                label_north_east = labeling[i-1,j+1]\n",
    "                neighbors += [[north_east, label_north_east]]\n",
    "            else:\n",
    "                pass\n",
    "\n",
    "            if len(neighbors) == 0:\n",
    "                labeling[i,j] = label\n",
    "                label += 1\n",
    "\n",
    "            else:\n",
    "                midle_label = []\n",
    "               # print (neighbors)\n",
    "                for n in neighbors:\n",
    "                   # print (n[0])\n",
    "                    if n[0] == pixel:\n",
    "                        midle_label += [n[1]]\n",
    "\n",
    "                if len(midle_label) == 0:   \n",
    "                    labeling[i,j] = label\n",
    "                    label += 1\n",
    "                else:\n",
    "                    relation = np.unique(midle_label) # create equiv label for replace\n",
    "                    if len(relation)>1 and relation.tolist() not in equivalent_relation:\n",
    "                        equivalent_relation += [relation.tolist()] # add for second circle\n",
    "                    labeling[i,j] = min(midle_label)"
   ]
  },
  {
   "cell_type": "code",
   "execution_count": 123,
   "metadata": {},
   "outputs": [],
   "source": [
    "# create matrix from index\n",
    "matrix = []\n",
    "for i in range(len(test)):\n",
    "    string = []\n",
    "    for j in range(0,len(test[0])):\n",
    "        string += [labeling[i,j]]\n",
    "    matrix += [string]"
   ]
  },
  {
   "cell_type": "code",
   "execution_count": 122,
   "metadata": {},
   "outputs": [
    {
     "data": {
      "text/plain": [
       "<matplotlib.image.AxesImage at 0x7f64c460a780>"
      ]
     },
     "execution_count": 122,
     "metadata": {},
     "output_type": "execute_result"
    },
    {
     "data": {
      "image/png": "[encoded data removed]",
      "text/plain": [
       "<Figure size 432x288 with 1 Axes>"
      ]
     },
     "metadata": {
      "needs_background": "light"
     },
     "output_type": "display_data"
    }
   ],
   "source": [
    "plt.imshow(np.asarray(matrix))"
   ]
  },
  {
   "cell_type": "markdown",
   "metadata": {},
   "source": [
    "## SECOND PASS"
   ]
  },
  {
   "cell_type": "code",
   "execution_count": 200,
   "metadata": {},
   "outputs": [
    {
     "data": {
      "text/plain": [
       "{1: [1, 2], 3: [3, 4, 5, 6, 7]}"
      ]
     },
     "execution_count": 200,
     "metadata": {},
     "output_type": "execute_result"
    }
   ],
   "source": [
    "# equivalent relations implementation\n",
    "\n",
    "indexes = np.unique(equivalent_relation).tolist()\n",
    "\n",
    "\n",
    "res = []\n",
    "dict_res = {}\n",
    "for i in equivalent_relation:\n",
    "    result = []\n",
    "\n",
    "    for j in equivalent_relation:\n",
    "        for el in j:\n",
    "            if el in i:\n",
    "                result.append(j)\n",
    "        \n",
    "    res = np.unique(result).tolist()\n",
    "    if min(res) not in dict_res:\n",
    "        lab = min(res)\n",
    "        dict_res[lab]=[]\n",
    "        dict_res[lab].append(res)\n",
    "    else: # min res in dict\n",
    "        dict_res[min(res)].append(res)\n",
    "replace={}\n",
    "for k,v in dict_res.items():\n",
    "    replace[k] = np.unique(np.concatenate(v)).tolist()\n",
    "\n",
    "reverse = {}\n",
    "for k, v in replace.items():\n",
    "    for ix in v:\n",
    "        reverse[ix] = k\n",
    "#replace"
   ]
  },
  {
   "cell_type": "code",
   "execution_count": 208,
   "metadata": {},
   "outputs": [],
   "source": [
    "# pass 2 \n",
    "matrix = []\n",
    "for i in range(len(test)):\n",
    "    string = []\n",
    "    for j in range(0,len(test[0])):\n",
    "        set_label = labeling[i,j]\n",
    "        if set_label in reverse:\n",
    "            set_label = reverse[set_label]\n",
    "        \n",
    "        string += [set_label]\n",
    "    matrix += [string]"
   ]
  },
  {
   "cell_type": "code",
   "execution_count": 209,
   "metadata": {},
   "outputs": [
    {
     "data": {
      "text/plain": [
       "<matplotlib.image.AxesImage at 0x7f64c37eabe0>"
      ]
     },
     "execution_count": 209,
     "metadata": {},
     "output_type": "execute_result"
    },
    {
     "data": {
      "image/png": "[encoded data removed]",
      "text/plain": [
       "<Figure size 432x288 with 1 Axes>"
      ]
     },
     "metadata": {
      "needs_background": "light"
     },
     "output_type": "display_data"
    }
   ],
   "source": [
    "plt.imshow(matrix)"
   ]
  }
 ],
 "metadata": {
  "kernelspec": {
   "display_name": "Python 3",
   "language": "python",
   "name": "python3"
  },
  "language_info": {
   "codemirror_mode": {
    "name": "ipython",
    "version": 3
   },
   "file_extension": ".py",
   "mimetype": "text/x-python",
   "name": "python",
   "nbconvert_exporter": "python",
   "pygments_lexer": "ipython3",
   "version": "3.6.8"
  }
 },
 "nbformat": 4,
 "nbformat_minor": 2
}
